{
 "cells": [
  {
   "cell_type": "markdown",
   "id": "e3f5bb72",
   "metadata": {},
   "source": [
    "# 4.2: Jupyter Fundamentals and Python Data Types"
   ]
  },
  {
   "cell_type": "markdown",
   "id": "52e1c2c6",
   "metadata": {},
   "source": [
    "### This script contains the following points:\n",
    "\n",
    "#### 1. Import libraries\n",
    "#### 2. Code 3 different ways of reaching a result of 100 by adding or subtracting numeric values\n",
    "#### 3. Code 2 floating-point variables and divide them by each other\n",
    "#### 4. Construct a short word made of separate strings\n",
    "#### 5. Construct 2 short senteces made of separate strings."
   ]
  },
  {
   "cell_type": "markdown",
   "id": "d8e5ae1b",
   "metadata": {},
   "source": [
    "# 01. Importing libraries"
   ]
  },
  {
   "cell_type": "code",
   "execution_count": 1,
   "id": "88d5d34f",
   "metadata": {},
   "outputs": [],
   "source": [
    "# Import libraries\n",
    "import pandas as pd\n",
    "import numpy as np\n",
    "import os"
   ]
  },
  {
   "cell_type": "markdown",
   "id": "01c85799",
   "metadata": {},
   "source": [
    "## 02 Code 3 different ways to reach a result of 100 by adding or subracting numeric values"
   ]
  },
  {
   "cell_type": "code",
   "execution_count": 31,
   "id": "9320c9e9",
   "metadata": {},
   "outputs": [],
   "source": [
    "a = 5"
   ]
  },
  {
   "cell_type": "code",
   "execution_count": 32,
   "id": "c81e55ad",
   "metadata": {},
   "outputs": [],
   "source": [
    "b = 20"
   ]
  },
  {
   "cell_type": "code",
   "execution_count": 33,
   "id": "e448be3d",
   "metadata": {},
   "outputs": [
    {
     "data": {
      "text/plain": [
       "100"
      ]
     },
     "execution_count": 33,
     "metadata": {},
     "output_type": "execute_result"
    }
   ],
   "source": [
    "a * b"
   ]
  },
  {
   "cell_type": "code",
   "execution_count": 34,
   "id": "6708d60e",
   "metadata": {},
   "outputs": [],
   "source": [
    "c = 80"
   ]
  },
  {
   "cell_type": "code",
   "execution_count": 35,
   "id": "eee36c92",
   "metadata": {},
   "outputs": [
    {
     "data": {
      "text/plain": [
       "100"
      ]
     },
     "execution_count": 35,
     "metadata": {},
     "output_type": "execute_result"
    }
   ],
   "source": [
    "b + c"
   ]
  },
  {
   "cell_type": "code",
   "execution_count": 36,
   "id": "29873868",
   "metadata": {},
   "outputs": [],
   "source": [
    "d = 10"
   ]
  },
  {
   "cell_type": "code",
   "execution_count": 37,
   "id": "8ed193f0",
   "metadata": {},
   "outputs": [
    {
     "data": {
      "text/plain": [
       "100"
      ]
     },
     "execution_count": 37,
     "metadata": {},
     "output_type": "execute_result"
    }
   ],
   "source": [
    "((d*d)*2) - (a * b)"
   ]
  },
  {
   "cell_type": "code",
   "execution_count": 38,
   "id": "6abb2dd8",
   "metadata": {},
   "outputs": [
    {
     "data": {
      "text/plain": [
       "100"
      ]
     },
     "execution_count": 38,
     "metadata": {},
     "output_type": "execute_result"
    }
   ],
   "source": [
    "c + d + a + a"
   ]
  },
  {
   "cell_type": "markdown",
   "id": "459eb2c6",
   "metadata": {},
   "source": [
    "## 03 Code 2 floating-point variables and divide them by each other"
   ]
  },
  {
   "cell_type": "code",
   "execution_count": 39,
   "id": "fccc0c01",
   "metadata": {},
   "outputs": [],
   "source": [
    "e = 25.07"
   ]
  },
  {
   "cell_type": "code",
   "execution_count": 40,
   "id": "7ccb76cd",
   "metadata": {},
   "outputs": [],
   "source": [
    "f = 3.47"
   ]
  },
  {
   "cell_type": "code",
   "execution_count": 41,
   "id": "d1ba3c30",
   "metadata": {},
   "outputs": [
    {
     "data": {
      "text/plain": [
       "7.22478386167147"
      ]
     },
     "execution_count": 41,
     "metadata": {},
     "output_type": "execute_result"
    }
   ],
   "source": [
    "e/f"
   ]
  },
  {
   "cell_type": "code",
   "execution_count": 42,
   "id": "376ee224",
   "metadata": {},
   "outputs": [
    {
     "data": {
      "text/plain": [
       "0.13841244515357"
      ]
     },
     "execution_count": 42,
     "metadata": {},
     "output_type": "execute_result"
    }
   ],
   "source": [
    "f/e"
   ]
  },
  {
   "cell_type": "markdown",
   "id": "984875f2",
   "metadata": {},
   "source": [
    "## 04 Construct a short word made of seperate strings"
   ]
  },
  {
   "cell_type": "code",
   "execution_count": 44,
   "id": "24ab6183",
   "metadata": {},
   "outputs": [],
   "source": [
    "g = 'star'"
   ]
  },
  {
   "cell_type": "code",
   "execution_count": 45,
   "id": "26cbdef3",
   "metadata": {},
   "outputs": [],
   "source": [
    "h = 'fish'"
   ]
  },
  {
   "cell_type": "code",
   "execution_count": 51,
   "id": "057928ab",
   "metadata": {},
   "outputs": [
    {
     "data": {
      "text/plain": [
       "'starfish'"
      ]
     },
     "execution_count": 51,
     "metadata": {},
     "output_type": "execute_result"
    }
   ],
   "source": [
    "g+h"
   ]
  },
  {
   "cell_type": "markdown",
   "id": "0e74d979",
   "metadata": {},
   "source": [
    "## 05 Construct 2 short sentences made of separate strings"
   ]
  },
  {
   "cell_type": "code",
   "execution_count": 52,
   "id": "e505acd5",
   "metadata": {},
   "outputs": [],
   "source": [
    "i = 'Patrick'"
   ]
  },
  {
   "cell_type": "code",
   "execution_count": 53,
   "id": "75437ffe",
   "metadata": {},
   "outputs": [],
   "source": [
    "j = 'the'"
   ]
  },
  {
   "cell_type": "code",
   "execution_count": 54,
   "id": "aa30e728",
   "metadata": {},
   "outputs": [],
   "source": [
    "k = 'is'"
   ]
  },
  {
   "cell_type": "code",
   "execution_count": 55,
   "id": "a831ea53",
   "metadata": {},
   "outputs": [],
   "source": [
    "l = 'Sponge'"
   ]
  },
  {
   "cell_type": "code",
   "execution_count": 58,
   "id": "afea57ba",
   "metadata": {},
   "outputs": [],
   "source": [
    "m = 'Bob\\'s'"
   ]
  },
  {
   "cell_type": "code",
   "execution_count": 59,
   "id": "ab51d03f",
   "metadata": {},
   "outputs": [],
   "source": [
    "n = 'best'"
   ]
  },
  {
   "cell_type": "code",
   "execution_count": 60,
   "id": "c298ecee",
   "metadata": {},
   "outputs": [],
   "source": [
    "o = 'friend'"
   ]
  },
  {
   "cell_type": "code",
   "execution_count": 68,
   "id": "877e172a",
   "metadata": {},
   "outputs": [],
   "source": [
    "z = ' '"
   ]
  },
  {
   "cell_type": "code",
   "execution_count": 71,
   "id": "cf19d68c",
   "metadata": {},
   "outputs": [],
   "source": [
    "y ='.'"
   ]
  },
  {
   "cell_type": "code",
   "execution_count": 73,
   "id": "7866d587",
   "metadata": {},
   "outputs": [],
   "source": [
    "p = 'only'"
   ]
  },
  {
   "cell_type": "code",
   "execution_count": 74,
   "id": "2789d307",
   "metadata": {},
   "outputs": [],
   "source": [
    "q = 'a'"
   ]
  },
  {
   "cell_type": "code",
   "execution_count": 80,
   "id": "2b75a356",
   "metadata": {},
   "outputs": [],
   "source": [
    "r = 'named'"
   ]
  },
  {
   "cell_type": "code",
   "execution_count": 79,
   "id": "8d176b0b",
   "metadata": {},
   "outputs": [
    {
     "data": {
      "text/plain": [
       "\"Patrick the starfish is SpongeBob's bestfriend.\""
      ]
     },
     "execution_count": 79,
     "metadata": {},
     "output_type": "execute_result"
    }
   ],
   "source": [
    "i+z+j+z+g+h+z+k+z+l+m+z+n+o+y"
   ]
  },
  {
   "cell_type": "code",
   "execution_count": 81,
   "id": "c796dd3e",
   "metadata": {},
   "outputs": [
    {
     "data": {
      "text/plain": [
       "\"Bob's only friend is a fish named Sponge.\""
      ]
     },
     "execution_count": 81,
     "metadata": {},
     "output_type": "execute_result"
    }
   ],
   "source": [
    "m+z+p+z+o+z+k+z+q+z+h+z+r+z+l+y"
   ]
  },
  {
   "cell_type": "code",
   "execution_count": null,
   "id": "8bdd6e79",
   "metadata": {},
   "outputs": [],
   "source": []
  }
 ],
 "metadata": {
  "kernelspec": {
   "display_name": "Python 3 (ipykernel)",
   "language": "python",
   "name": "python3"
  },
  "language_info": {
   "codemirror_mode": {
    "name": "ipython",
    "version": 3
   },
   "file_extension": ".py",
   "mimetype": "text/x-python",
   "name": "python",
   "nbconvert_exporter": "python",
   "pygments_lexer": "ipython3",
   "version": "3.9.13"
  }
 },
 "nbformat": 4,
 "nbformat_minor": 5
}
